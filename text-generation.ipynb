{
 "cells": [
  {
   "cell_type": "code",
   "execution_count": 104,
   "metadata": {},
   "outputs": [],
   "source": [
    "#importing libraries\n",
    "import numpy as np\n",
    "import torch\n",
    "from torch import nn \n",
    "import torch.nn.functional as F"
   ]
  },
  {
   "cell_type": "markdown",
   "metadata": {},
   "source": [
    "#### Data Encoding"
   ]
  },
  {
   "cell_type": "code",
   "execution_count": 105,
   "metadata": {},
   "outputs": [],
   "source": [
    "#importing the text file\n",
    "with open('data/shakespear.txt','r') as f: \n",
    "    text = f.read()"
   ]
  },
  {
   "cell_type": "code",
   "execution_count": 106,
   "metadata": {},
   "outputs": [],
   "source": [
    "# encoding text by mapping characters to integers and vice versa \n",
    "chars = tuple(set(text))\n",
    "int2char = dict(enumerate(chars))\n",
    "char2int = {c:i for i,c in int2char.items()}\n",
    "\n",
    "# econding text \n",
    "encoded_text = np.array([char2int[c] for c in text])"
   ]
  },
  {
   "cell_type": "code",
   "execution_count": 107,
   "metadata": {},
   "outputs": [
    {
     "data": {
      "text/plain": [
       "(1835008, 1835008)"
      ]
     },
     "execution_count": 107,
     "metadata": {},
     "output_type": "execute_result"
    }
   ],
   "source": [
    "len(text),len(encoded_text)"
   ]
  },
  {
   "cell_type": "code",
   "execution_count": 108,
   "metadata": {},
   "outputs": [],
   "source": [
    "# creating one-hot vectors\n",
    "def one_hot_encoding(arr,labels):\n",
    "    \n",
    "    # initalize\n",
    "    one_hot = np.zeros((np.multiply(*arr.shape), labels), dtype=np.float32)\n",
    "    \n",
    "    # fill in with ones\n",
    "    one_hot[np.arange(one_hot.shape[0]), arr.flatten()] = 1.\n",
    "    \n",
    "    # reshape back to the original array\n",
    "    one_hot = one_hot.reshape((*arr.shape, labels))\n",
    "    \n",
    "    return one_hot"
   ]
  },
  {
   "cell_type": "markdown",
   "metadata": {},
   "source": [
    "#### Mini-batches \n",
    "> speparating the file into mini batches to speed up training"
   ]
  },
  {
   "cell_type": "code",
   "execution_count": 109,
   "metadata": {},
   "outputs": [],
   "source": [
    "# Defining method to make mini-batches for training\n",
    "def get_batches(arr, batch_size, seq_length):\n",
    "    '''Create a generator that returns batches of size\n",
    "       batch_size x seq_length from arr.\n",
    "       \n",
    "       Arguments\n",
    "       ---------\n",
    "       arr: Array you want to make batches from\n",
    "       batch_size: Batch size, the number of sequences per batch\n",
    "       seq_length: Number of encoded chars in a sequence\n",
    "    '''\n",
    "    \n",
    "    batch_size_total = batch_size * seq_length\n",
    "    \n",
    "    # total number of batches we can make\n",
    "    n_batches = len(arr)//batch_size_total\n",
    "    \n",
    "    # Keep only enough characters to make full batches\n",
    "    arr = arr[:n_batches * batch_size_total]\n",
    "    # Reshape into batch_size rows\n",
    "    arr = arr.reshape((batch_size, -1))\n",
    "    \n",
    "    # iterate through the array, one sequence at a time\n",
    "    for n in range(0, arr.shape[1], seq_length):\n",
    "        # The features\n",
    "        x = arr[:, n:n+seq_length]\n",
    "        # The targets, shifted by one\n",
    "        y = np.zeros_like(x)\n",
    "        try:\n",
    "            y[:, :-1], y[:, -1] = x[:, 1:], arr[:, n+seq_length]\n",
    "        except IndexError:\n",
    "            y[:, :-1], y[:, -1] = x[:, 1:], arr[:, 0]\n",
    "        yield x, y"
   ]
  },
  {
   "cell_type": "markdown",
   "metadata": {},
   "source": [
    "#### Building Model "
   ]
  },
  {
   "cell_type": "code",
   "execution_count": 110,
   "metadata": {},
   "outputs": [
    {
     "name": "stdout",
     "output_type": "stream",
     "text": [
      "No GPU available, training on CPU; consider making n_epochs very small.\n"
     ]
    }
   ],
   "source": [
    "train_on_gpu = torch.cuda.is_available()\n",
    "if(train_on_gpu):\n",
    "    print('Training on GPU!')\n",
    "else: \n",
    "    print('No GPU available, training on CPU; consider making n_epochs very small.')"
   ]
  },
  {
   "cell_type": "markdown",
   "metadata": {},
   "source": [
    "##### Defining the RNN network"
   ]
  },
  {
   "cell_type": "code",
   "execution_count": 111,
   "metadata": {},
   "outputs": [],
   "source": [
    "class CharRNN(nn.Module):\n",
    "\n",
    "    def __init__(self, tokens, n_hidden=512, n_layers=2, drop_prob=0.5, lr=0.001):\n",
    "            \n",
    "            super().__init__()\n",
    "            self.drop_prob = drop_prob\n",
    "            self.n_layers = n_layers\n",
    "            self.n_hidden = n_hidden\n",
    "            self.lr = lr\n",
    "            \n",
    "            # creating dictionaries\n",
    "            self.chars = tokens\n",
    "            self.int2char = dict(enumerate(chars))\n",
    "            self.char2int = {c:i for i,c in int2char.items()}\n",
    "            \n",
    "            # LSTM - https://pytorch.org/docs/stable/nn.html\n",
    "            self.lstm = nn.LSTM(len(self.chars),n_hidden,n_layers,dropout = drop_prob,batch_first = True)\n",
    "            \n",
    "            # drop out layer\n",
    "            self.dropout = nn.Dropout(drop_prob)\n",
    "            \n",
    "            # fully connected layer - final layer\n",
    "            self.fc = nn.Linear(n_hidden,len(self.chars))\n",
    "            \n",
    "    # forward function - propagating input and memory values \n",
    "    def forward (self, x, hidden):\n",
    "\n",
    "        # output of new hidden state from lstm model \n",
    "        r_output, hidden = self.lstm(x, hidden)\n",
    "        \n",
    "        # go through the drop out layer \n",
    "        out = self.dropout(r_output)\n",
    "\n",
    "        # stack lstm outputs \n",
    "        out = out.contiguous().view(-1,self.n_hidden)\n",
    "\n",
    "        # inputs pass through the fully connected layer\n",
    "        out = self.fc(out)\n",
    "\n",
    "        return out,hidden\n",
    "    \n",
    "    \n",
    "    # initializing the hidden value for the correct batch size if you’re using mini-batches.\n",
    "    def init_hidden(self, batch_size):\n",
    "        ''' Initializes hidden state '''\n",
    "        # Create two new tensors with sizes n_layers x batch_size x n_hidden,\n",
    "        # initialized to zero, for hidden state and cell state of LSTM\n",
    "        weight = next(self.parameters()).data\n",
    "\n",
    "        if (train_on_gpu):\n",
    "            hidden = (weight.new(self.n_layers, batch_size, self.n_hidden).zero_().cuda(),\n",
    "                  weight.new(self.n_layers, batch_size, self.n_hidden).zero_().cuda())\n",
    "        else:\n",
    "            hidden = (weight.new(self.n_layers, batch_size, self.n_hidden).zero_(),\n",
    "                      weight.new(self.n_layers, batch_size, self.n_hidden).zero_())\n",
    "\n",
    "        return hidden"
   ]
  },
  {
   "cell_type": "markdown",
   "metadata": {},
   "source": [
    "#### Training"
   ]
  },
  {
   "cell_type": "code",
   "execution_count": 112,
   "metadata": {},
   "outputs": [],
   "source": [
    "def train(net, data, epochs=10, batch_size=10, seq_length=50, lr=0.001, clip=5, val_frac=0.1, print_every=10):\n",
    "    \n",
    "    ''' Training a network \n",
    "    \n",
    "        Arguments\n",
    "        ---------\n",
    "        \n",
    "        net: CharRNN network\n",
    "        data: text data to train the network\n",
    "        epochs: Number of epochs to train\n",
    "        batch_size: Number of mini-sequences per mini-batch, aka batch size\n",
    "        seq_length: Number of character steps per mini-batch\n",
    "        lr: learning rate\n",
    "        clip: gradient clipping\n",
    "        val_frac: Fraction of data to hold out for validation\n",
    "        print_every: Number of steps for printing training and validation loss\n",
    "    \n",
    "    '''\n",
    "    \n",
    "    net.train()\n",
    "    \n",
    "    opt = torch.optim.Adam(net.parameters(), lr=lr)\n",
    "    criterion = nn.CrossEntropyLoss()\n",
    "    \n",
    "    #creating training & validating data\n",
    "    val_idx = int(len(data)*(1-val_frac))\n",
    "    data, val_data = data[:val_idx], data[val_idx:]\n",
    "    \n",
    "    if(train_on_gpu):\n",
    "        net.cuda()\n",
    "        \n",
    "    counter = 0 \n",
    "    n_chars = len(net.chars)\n",
    "    \n",
    "    for e in range(epochs):\n",
    "        \n",
    "        #hidden state\n",
    "        h = net.init_hidden(batch_size)\n",
    "        \n",
    "        for x,y in get_batches(data,batch_size,seq_length):\n",
    "            counter += 1\n",
    "            \n",
    "            #one hot encode\n",
    "            x = one_hot_encoding(x,n_chars)\n",
    "            inputs,targets = torch.from_numpy(x),torch.from_numpy(y)\n",
    "            \n",
    "            \n",
    "            if(train_on_gpu):\n",
    "                inputs, targets = inputs.cuda(), targets.cuda()\n",
    "\n",
    "            # Creating new variables for the hidden state\n",
    "            h = tuple([each.data for each in h])\n",
    "            \n",
    "            #setting gradient \n",
    "            net.zero_grad()\n",
    "            \n",
    "            #model output \n",
    "            output,h = net(inputs,h)\n",
    "            \n",
    "            #calculate loss, then backpropagate\n",
    "            loss = criterion(output,targets.view(batch_size*seq_length).long()) \n",
    "            loss.backward()\n",
    "            \n",
    "            # `clip_grad_norm` helps prevent the exploding gradient problem in RNNs / LSTMs.\n",
    "            # https://pytorch.org/docs/stable/nn.html#clip-grad-norm\n",
    "            nn.utils.clip_grad_norm_(net.parameters(), clip)\n",
    "            opt.step()\n",
    "            \n",
    "            # loss stats\n",
    "            if counter % print_every == 0 :\n",
    "                #get_valid loss\n",
    "                val_h = net.init_hidden(batch_size)\n",
    "                val_losses = []\n",
    "                net.eval()\n",
    "                \n",
    "                for x,y in get_batches(data,batch_size,seq_length):\n",
    "                    # one hot encode\n",
    "                    x = one_hot_encoding(x,n_chars)\n",
    "                    x,y = torch.from_numpy(x),torch.from_numpy(y)\n",
    "        \n",
    "                    val_h = tuple([each.data for each in h])\n",
    "            \n",
    "                    if(train_on_gpu):\n",
    "                        x, y = inputs.cuda(), targets.cuda()\n",
    "                    \n",
    "                    output, val_h = net(x, val_h)\n",
    "                    val_loss = criterion(output, y.view(batch_size*seq_length).long())\n",
    "                    \n",
    "                    val_losses.append(val_loss.item())\n",
    "                    \n",
    "                net.train()\n",
    "                \n",
    "                \n",
    "                print(\"Epoch: {}/{}...\".format(e+1, epochs),\n",
    "                      \"Step: {}...\".format(counter),\n",
    "                      \"Loss: {:.4f}...\".format(loss.item()),\n",
    "                      \"Val Loss: {:.4f}\".format(np.mean(val_losses)))"
   ]
  },
  {
   "cell_type": "code",
   "execution_count": 113,
   "metadata": {},
   "outputs": [
    {
     "name": "stdout",
     "output_type": "stream",
     "text": [
      "CharRNN(\n",
      "  (lstm): LSTM(82, 512, num_layers=2, batch_first=True, dropout=0.5)\n",
      "  (dropout): Dropout(p=0.5)\n",
      "  (fc): Linear(in_features=512, out_features=82, bias=True)\n",
      ")\n"
     ]
    }
   ],
   "source": [
    "net = CharRNN(chars)\n",
    "print(net)\n"
   ]
  },
  {
   "cell_type": "code",
   "execution_count": 114,
   "metadata": {},
   "outputs": [
    {
     "name": "stdout",
     "output_type": "stream",
     "text": [
      "Epoch: 1/20... Step: 50... Loss: 3.2098... Val Loss: 3.1827\n",
      "Epoch: 1/20... Step: 100... Loss: 3.1826... Val Loss: 3.1484\n",
      "Epoch: 2/20... Step: 150... Loss: 2.8858... Val Loss: 2.8569\n",
      "Epoch: 2/20... Step: 200... Loss: 2.4888... Val Loss: 2.4428\n",
      "Epoch: 2/20... Step: 250... Loss: 2.2761... Val Loss: 2.2537\n",
      "Epoch: 3/20... Step: 300... Loss: 2.1876... Val Loss: 2.1382\n",
      "Epoch: 3/20... Step: 350... Loss: 2.0618... Val Loss: 2.0525\n",
      "Epoch: 4/20... Step: 400... Loss: 2.0175... Val Loss: 1.9881\n",
      "Epoch: 4/20... Step: 450... Loss: 1.9803... Val Loss: 1.9265\n",
      "Epoch: 4/20... Step: 500... Loss: 1.9049... Val Loss: 1.8730\n",
      "Epoch: 5/20... Step: 550... Loss: 1.8851... Val Loss: 1.8300\n",
      "Epoch: 5/20... Step: 600... Loss: 1.8483... Val Loss: 1.7866\n",
      "Epoch: 6/20... Step: 650... Loss: 1.7554... Val Loss: 1.7484\n",
      "Epoch: 6/20... Step: 700... Loss: 1.7312... Val Loss: 1.7189\n",
      "Epoch: 6/20... Step: 750... Loss: 1.7019... Val Loss: 1.6901\n",
      "Epoch: 7/20... Step: 800... Loss: 1.6864... Val Loss: 1.6582\n",
      "Epoch: 7/20... Step: 850... Loss: 1.6525... Val Loss: 1.6430\n",
      "Epoch: 7/20... Step: 900... Loss: 1.6095... Val Loss: 1.6271\n",
      "Epoch: 8/20... Step: 950... Loss: 1.6398... Val Loss: 1.5983\n",
      "Epoch: 8/20... Step: 1000... Loss: 1.5659... Val Loss: 1.5894\n",
      "Epoch: 9/20... Step: 1050... Loss: 1.5700... Val Loss: 1.5703\n",
      "Epoch: 9/20... Step: 1100... Loss: 1.5649... Val Loss: 1.5559\n",
      "Epoch: 9/20... Step: 1150... Loss: 1.5629... Val Loss: 1.5445\n",
      "Epoch: 10/20... Step: 1200... Loss: 1.5198... Val Loss: 1.5299\n",
      "Epoch: 10/20... Step: 1250... Loss: 1.5120... Val Loss: 1.5268\n",
      "Epoch: 11/20... Step: 1300... Loss: 1.5280... Val Loss: 1.5092\n",
      "Epoch: 11/20... Step: 1350... Loss: 1.4842... Val Loss: 1.5024\n",
      "Epoch: 11/20... Step: 1400... Loss: 1.5141... Val Loss: 1.4945\n",
      "Epoch: 12/20... Step: 1450... Loss: 1.4686... Val Loss: 1.4836\n",
      "Epoch: 12/20... Step: 1500... Loss: 1.4136... Val Loss: 1.4825\n",
      "Epoch: 13/20... Step: 1550... Loss: 1.4726... Val Loss: 1.4559\n",
      "Epoch: 13/20... Step: 1600... Loss: 1.4317... Val Loss: 1.4621\n",
      "Epoch: 13/20... Step: 1650... Loss: 1.4337... Val Loss: 1.4568\n",
      "Epoch: 14/20... Step: 1700... Loss: 1.4106... Val Loss: 1.4472\n",
      "Epoch: 14/20... Step: 1750... Loss: 1.3863... Val Loss: 1.4507\n",
      "Epoch: 14/20... Step: 1800... Loss: 1.4342... Val Loss: 1.4359\n",
      "Epoch: 15/20... Step: 1850... Loss: 1.3778... Val Loss: 1.4365\n",
      "Epoch: 15/20... Step: 1900... Loss: 1.4249... Val Loss: 1.4288\n",
      "Epoch: 16/20... Step: 1950... Loss: 1.3839... Val Loss: 1.4154\n",
      "Epoch: 16/20... Step: 2000... Loss: 1.3431... Val Loss: 1.4200\n",
      "Epoch: 16/20... Step: 2050... Loss: 1.3797... Val Loss: 1.4174\n",
      "Epoch: 17/20... Step: 2100... Loss: 1.3671... Val Loss: 1.4092\n",
      "Epoch: 17/20... Step: 2150... Loss: 1.3434... Val Loss: 1.4064\n",
      "Epoch: 18/20... Step: 2200... Loss: 1.3424... Val Loss: 1.3894\n",
      "Epoch: 18/20... Step: 2250... Loss: 1.3571... Val Loss: 1.3909\n",
      "Epoch: 18/20... Step: 2300... Loss: 1.3692... Val Loss: 1.3975\n",
      "Epoch: 19/20... Step: 2350... Loss: 1.3465... Val Loss: 1.3811\n",
      "Epoch: 19/20... Step: 2400... Loss: 1.3175... Val Loss: 1.3801\n",
      "Epoch: 19/20... Step: 2450... Loss: 1.3152... Val Loss: 1.3819\n",
      "Epoch: 20/20... Step: 2500... Loss: 1.3559... Val Loss: 1.3611\n",
      "Epoch: 20/20... Step: 2550... Loss: 1.2955... Val Loss: 1.3867\n"
     ]
    }
   ],
   "source": [
    "batch_size = 128\n",
    "seq_length = 100\n",
    "n_epochs = 20\n",
    "\n",
    "# train the model\n",
    "train(net, encoded_text, epochs=n_epochs, batch_size=batch_size, seq_length=seq_length, lr=0.001, print_every=50)"
   ]
  },
  {
   "cell_type": "markdown",
   "metadata": {},
   "source": [
    "#### Prediction"
   ]
  },
  {
   "cell_type": "code",
   "execution_count": 127,
   "metadata": {},
   "outputs": [],
   "source": [
    "# predict the next character from the trained RNN with forward propagation.\n",
    "def predict(net, char, h=None, top_k=None):\n",
    "    'Given a character, predict the next character'\n",
    "    'returns predicted character and the hidden state'\n",
    "    \n",
    "    #tensor inputs\n",
    "    x = np.array([[net.char2int[char]]])\n",
    "    x = one_hot_encoding(x, len(net.chars))\n",
    "    inputs = torch.from_numpy(x)\n",
    "    \n",
    "    if(train_on_gpu):\n",
    "        inputs = inputs.cuda()\n",
    "    h = tuple([each.data for each in h])\n",
    "    \n",
    "    # get output in model\n",
    "    out,h = net(inputs,h)\n",
    "    \n",
    "    #get char possibility\n",
    "    p = F.softmax(out,dim=1).data\n",
    "    \n",
    "    if(train_on_gpu):\n",
    "        p = p.cpu()\n",
    "    \n",
    "    if top_k is None:\n",
    "        top_ch = np.arrange(len(net.chars))\n",
    "    else:\n",
    "        p,top_ch = p.topk(top_k)\n",
    "        top_ch = top_ch.numpy().squeeze()\n",
    "    \n",
    "    p = p.numpy().squeeze()\n",
    "    char = np.random.choice(top_ch, p=p/p.sum())\n",
    "    \n",
    "    return net.int2char[char],h"
   ]
  },
  {
   "cell_type": "markdown",
   "metadata": {},
   "source": [
    "#### Sample"
   ]
  },
  {
   "cell_type": "code",
   "execution_count": 134,
   "metadata": {},
   "outputs": [],
   "source": [
    "def sample(net,size,prime=\"Flower\", top_k=None):\n",
    "    \n",
    "    if(train_on_gpu):\n",
    "        net.cuda()\n",
    "    else:\n",
    "        net.cpu()\n",
    "    \n",
    "    net.eval() # eval mode\n",
    "    \n",
    "    # going through prime characters\n",
    "    chars = [ch for ch in prime]\n",
    "    h  = net.init_hidden(1)\n",
    "    \n",
    "    for ch in prime:\n",
    "        char,h = predict(net,ch,h, top_k=top_k)\n",
    "        \n",
    "    chars.append(char)\n",
    "    \n",
    "    #pass in previous characters, and get new ones \n",
    "    for ii in range(size):\n",
    "        char,h = predict(net,char[-1],h,top_k=top_k)\n",
    "        chars.append(char)\n",
    "        \n",
    "    return ''.join(chars)"
   ]
  },
  {
   "cell_type": "code",
   "execution_count": 139,
   "metadata": {},
   "outputs": [
    {
     "name": "stdout",
     "output_type": "stream",
     "text": [
      "ADY.\n",
      "  My lord, sir!\n",
      "  Laer. No find his house, for me, too bear than milist\n",
      "    That then what minite my howald speak\n",
      "    Befind you it to a bareot which he must\n",
      "    Or thear thou douse me sparing him alast,\n",
      "    The countrys of some lang. This for his poor\n",
      "    As would the serve of mischers, there is a poor\n",
      "    To do which shall-blow and mine, famous,\n",
      "    As I heaven to anone about the field\n",
      "    Will break to this fire this heart to think,\n",
      "    In arries this consul. The that can feed\n",
      "    As I have bland to him, but I am male;\n",
      "    To hold him for once; what thering base bettor you,\n",
      "    Who which we were well how dear here.\n",
      "    If he can ad fool what many the winder\n",
      "    Which in the this thoughts in ourselves in thy wife,\n",
      "    The bitter of the twroted.\n",
      "  ORLANDO. I am give our heart.\n",
      "  SAUDUS. I have stan's on; bick it.\n",
      "  PAROLLES. As yes well suck to-morrow. He't a woman that I ars not wait.\n",
      "\n",
      "                           Exeunt\n",
      "\n",
      "\n",
      "\n",
      "\n",
      "SCENE III.\n",
      "Which and with a possip\n",
      "Enter and the LODD\n",
      "\n",
      "\n",
      "  \n"
     ]
    }
   ],
   "source": [
    "print(sample(net, 1000, prime='A', top_k=10))"
   ]
  },
  {
   "cell_type": "code",
   "execution_count": null,
   "metadata": {},
   "outputs": [],
   "source": []
  }
 ],
 "metadata": {
  "kernelspec": {
   "display_name": "Python 3",
   "language": "python",
   "name": "python3"
  },
  "language_info": {
   "codemirror_mode": {
    "name": "ipython",
    "version": 3
   },
   "file_extension": ".py",
   "mimetype": "text/x-python",
   "name": "python",
   "nbconvert_exporter": "python",
   "pygments_lexer": "ipython3",
   "version": "3.7.1"
  }
 },
 "nbformat": 4,
 "nbformat_minor": 2
}
